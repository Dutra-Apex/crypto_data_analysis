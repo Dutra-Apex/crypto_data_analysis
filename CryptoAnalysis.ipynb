{
  "nbformat": 4,
  "nbformat_minor": 0,
  "metadata": {
    "colab": {
      "name": "CryptoAnalysis_Dutra.ipynb",
      "provenance": []
    },
    "kernelspec": {
      "name": "python3",
      "display_name": "Python 3"
    },
    "language_info": {
      "name": "python"
    }
  },
  "cells": [
    {
      "cell_type": "markdown",
      "source": [
        "#Setup\n",
        "\n",
        "Loads necessary libraries and data"
      ],
      "metadata": {
        "id": "BDFJmgdYKkPn"
      }
    },
    {
      "cell_type": "code",
      "execution_count": null,
      "metadata": {
        "id": "qtxgMsSFKTUW"
      },
      "outputs": [],
      "source": [
        "import matplotlib.pyplot as plt\n",
        "import squarify\n",
        "import numpy as np\n",
        "import pandas as pd\n",
        "from google.colab import drive\n",
        "plt.style.use('fivethirtyeight')"
      ]
    },
    {
      "cell_type": "code",
      "source": [
        "#Mounts your google drive to colab\n",
        "drive.mount('/content/drive')\n",
        "\n",
        "#Change path accordingly\n",
        "path = '/content/drive/My Drive/g-research-crypto-forecasting'\n",
        "os.chdir(path)"
      ],
      "metadata": {
        "id": "jil4knRCKjDF"
      },
      "execution_count": null,
      "outputs": []
    },
    {
      "cell_type": "code",
      "source": [
        "train = pd.read_csv('train.csv')"
      ],
      "metadata": {
        "id": "P9_AfVVxK_y1"
      },
      "execution_count": null,
      "outputs": []
    },
    {
      "cell_type": "code",
      "source": [
        "train.head()"
      ],
      "metadata": {
        "colab": {
          "base_uri": "https://localhost:8080/",
          "height": 206
        },
        "id": "2zVgg0vddlQO",
        "outputId": "941adc10-09f5-4932-d71b-f4f0a496efd0"
      },
      "execution_count": null,
      "outputs": [
        {
          "output_type": "execute_result",
          "data": {
            "text/plain": [
              "    timestamp  Asset_ID  Count        Open        High         Low  \\\n",
              "0  1514764860         2   40.0   2376.5800   2399.5000   2357.1400   \n",
              "1  1514764860         0    5.0      8.5300      8.5300      8.5300   \n",
              "2  1514764860         1  229.0  13835.1940  14013.8000  13666.1100   \n",
              "3  1514764860         5   32.0      7.6596      7.6596      7.6567   \n",
              "4  1514764860         7    5.0     25.9200     25.9200     25.8740   \n",
              "\n",
              "        Close       Volume          VWAP    Target  \n",
              "0   2374.5900    19.233005   2373.116392 -0.004218  \n",
              "1      8.5300    78.380000      8.530000 -0.014399  \n",
              "2  13850.1760    31.550062  13827.062093 -0.014643  \n",
              "3      7.6576  6626.713370      7.657713 -0.013922  \n",
              "4     25.8770   121.087310     25.891363 -0.008264  "
            ],
            "text/html": [
              "\n",
              "  <div id=\"df-357bfe15-ae94-451e-8683-818fd3940d8d\">\n",
              "    <div class=\"colab-df-container\">\n",
              "      <div>\n",
              "<style scoped>\n",
              "    .dataframe tbody tr th:only-of-type {\n",
              "        vertical-align: middle;\n",
              "    }\n",
              "\n",
              "    .dataframe tbody tr th {\n",
              "        vertical-align: top;\n",
              "    }\n",
              "\n",
              "    .dataframe thead th {\n",
              "        text-align: right;\n",
              "    }\n",
              "</style>\n",
              "<table border=\"1\" class=\"dataframe\">\n",
              "  <thead>\n",
              "    <tr style=\"text-align: right;\">\n",
              "      <th></th>\n",
              "      <th>timestamp</th>\n",
              "      <th>Asset_ID</th>\n",
              "      <th>Count</th>\n",
              "      <th>Open</th>\n",
              "      <th>High</th>\n",
              "      <th>Low</th>\n",
              "      <th>Close</th>\n",
              "      <th>Volume</th>\n",
              "      <th>VWAP</th>\n",
              "      <th>Target</th>\n",
              "    </tr>\n",
              "  </thead>\n",
              "  <tbody>\n",
              "    <tr>\n",
              "      <th>0</th>\n",
              "      <td>1514764860</td>\n",
              "      <td>2</td>\n",
              "      <td>40.0</td>\n",
              "      <td>2376.5800</td>\n",
              "      <td>2399.5000</td>\n",
              "      <td>2357.1400</td>\n",
              "      <td>2374.5900</td>\n",
              "      <td>19.233005</td>\n",
              "      <td>2373.116392</td>\n",
              "      <td>-0.004218</td>\n",
              "    </tr>\n",
              "    <tr>\n",
              "      <th>1</th>\n",
              "      <td>1514764860</td>\n",
              "      <td>0</td>\n",
              "      <td>5.0</td>\n",
              "      <td>8.5300</td>\n",
              "      <td>8.5300</td>\n",
              "      <td>8.5300</td>\n",
              "      <td>8.5300</td>\n",
              "      <td>78.380000</td>\n",
              "      <td>8.530000</td>\n",
              "      <td>-0.014399</td>\n",
              "    </tr>\n",
              "    <tr>\n",
              "      <th>2</th>\n",
              "      <td>1514764860</td>\n",
              "      <td>1</td>\n",
              "      <td>229.0</td>\n",
              "      <td>13835.1940</td>\n",
              "      <td>14013.8000</td>\n",
              "      <td>13666.1100</td>\n",
              "      <td>13850.1760</td>\n",
              "      <td>31.550062</td>\n",
              "      <td>13827.062093</td>\n",
              "      <td>-0.014643</td>\n",
              "    </tr>\n",
              "    <tr>\n",
              "      <th>3</th>\n",
              "      <td>1514764860</td>\n",
              "      <td>5</td>\n",
              "      <td>32.0</td>\n",
              "      <td>7.6596</td>\n",
              "      <td>7.6596</td>\n",
              "      <td>7.6567</td>\n",
              "      <td>7.6576</td>\n",
              "      <td>6626.713370</td>\n",
              "      <td>7.657713</td>\n",
              "      <td>-0.013922</td>\n",
              "    </tr>\n",
              "    <tr>\n",
              "      <th>4</th>\n",
              "      <td>1514764860</td>\n",
              "      <td>7</td>\n",
              "      <td>5.0</td>\n",
              "      <td>25.9200</td>\n",
              "      <td>25.9200</td>\n",
              "      <td>25.8740</td>\n",
              "      <td>25.8770</td>\n",
              "      <td>121.087310</td>\n",
              "      <td>25.891363</td>\n",
              "      <td>-0.008264</td>\n",
              "    </tr>\n",
              "  </tbody>\n",
              "</table>\n",
              "</div>\n",
              "      <button class=\"colab-df-convert\" onclick=\"convertToInteractive('df-357bfe15-ae94-451e-8683-818fd3940d8d')\"\n",
              "              title=\"Convert this dataframe to an interactive table.\"\n",
              "              style=\"display:none;\">\n",
              "        \n",
              "  <svg xmlns=\"http://www.w3.org/2000/svg\" height=\"24px\"viewBox=\"0 0 24 24\"\n",
              "       width=\"24px\">\n",
              "    <path d=\"M0 0h24v24H0V0z\" fill=\"none\"/>\n",
              "    <path d=\"M18.56 5.44l.94 2.06.94-2.06 2.06-.94-2.06-.94-.94-2.06-.94 2.06-2.06.94zm-11 1L8.5 8.5l.94-2.06 2.06-.94-2.06-.94L8.5 2.5l-.94 2.06-2.06.94zm10 10l.94 2.06.94-2.06 2.06-.94-2.06-.94-.94-2.06-.94 2.06-2.06.94z\"/><path d=\"M17.41 7.96l-1.37-1.37c-.4-.4-.92-.59-1.43-.59-.52 0-1.04.2-1.43.59L10.3 9.45l-7.72 7.72c-.78.78-.78 2.05 0 2.83L4 21.41c.39.39.9.59 1.41.59.51 0 1.02-.2 1.41-.59l7.78-7.78 2.81-2.81c.8-.78.8-2.07 0-2.86zM5.41 20L4 18.59l7.72-7.72 1.47 1.35L5.41 20z\"/>\n",
              "  </svg>\n",
              "      </button>\n",
              "      \n",
              "  <style>\n",
              "    .colab-df-container {\n",
              "      display:flex;\n",
              "      flex-wrap:wrap;\n",
              "      gap: 12px;\n",
              "    }\n",
              "\n",
              "    .colab-df-convert {\n",
              "      background-color: #E8F0FE;\n",
              "      border: none;\n",
              "      border-radius: 50%;\n",
              "      cursor: pointer;\n",
              "      display: none;\n",
              "      fill: #1967D2;\n",
              "      height: 32px;\n",
              "      padding: 0 0 0 0;\n",
              "      width: 32px;\n",
              "    }\n",
              "\n",
              "    .colab-df-convert:hover {\n",
              "      background-color: #E2EBFA;\n",
              "      box-shadow: 0px 1px 2px rgba(60, 64, 67, 0.3), 0px 1px 3px 1px rgba(60, 64, 67, 0.15);\n",
              "      fill: #174EA6;\n",
              "    }\n",
              "\n",
              "    [theme=dark] .colab-df-convert {\n",
              "      background-color: #3B4455;\n",
              "      fill: #D2E3FC;\n",
              "    }\n",
              "\n",
              "    [theme=dark] .colab-df-convert:hover {\n",
              "      background-color: #434B5C;\n",
              "      box-shadow: 0px 1px 3px 1px rgba(0, 0, 0, 0.15);\n",
              "      filter: drop-shadow(0px 1px 2px rgba(0, 0, 0, 0.3));\n",
              "      fill: #FFFFFF;\n",
              "    }\n",
              "  </style>\n",
              "\n",
              "      <script>\n",
              "        const buttonEl =\n",
              "          document.querySelector('#df-357bfe15-ae94-451e-8683-818fd3940d8d button.colab-df-convert');\n",
              "        buttonEl.style.display =\n",
              "          google.colab.kernel.accessAllowed ? 'block' : 'none';\n",
              "\n",
              "        async function convertToInteractive(key) {\n",
              "          const element = document.querySelector('#df-357bfe15-ae94-451e-8683-818fd3940d8d');\n",
              "          const dataTable =\n",
              "            await google.colab.kernel.invokeFunction('convertToInteractive',\n",
              "                                                     [key], {});\n",
              "          if (!dataTable) return;\n",
              "\n",
              "          const docLinkHtml = 'Like what you see? Visit the ' +\n",
              "            '<a target=\"_blank\" href=https://colab.research.google.com/notebooks/data_table.ipynb>data table notebook</a>'\n",
              "            + ' to learn more about interactive tables.';\n",
              "          element.innerHTML = '';\n",
              "          dataTable['output_type'] = 'display_data';\n",
              "          await google.colab.output.renderOutput(dataTable, element);\n",
              "          const docLink = document.createElement('div');\n",
              "          docLink.innerHTML = docLinkHtml;\n",
              "          element.appendChild(docLink);\n",
              "        }\n",
              "      </script>\n",
              "    </div>\n",
              "  </div>\n",
              "  "
            ]
          },
          "metadata": {},
          "execution_count": 12
        }
      ]
    },
    {
      "cell_type": "markdown",
      "source": [
        "timestamp - A timestamp for the minute covered by the row.\n",
        "\n",
        "Asset_ID - An ID code for the cryptoasset.\n",
        "\n",
        "Count - The number of trades that took place this minute.\n",
        "\n",
        "Open - The USD price at the beginning of the minute.\n",
        "\n",
        "High - The highest USD price during the minute.\n",
        "\n",
        "Low - The lowest USD price during the minute.\n",
        "\n",
        "Close - The USD price at the end of the minute.\n",
        "\n",
        "Volume - The number of cryptoasset units traded during the minute."
      ],
      "metadata": {
        "id": "G2FZC_S3PP5s"
      }
    },
    {
      "cell_type": "code",
      "metadata": {
        "id": "ZGMkpu6gEPhv"
      },
      "source": [
        "#Assigns each variable to its respective asset\n",
        "bin = train[train[\"Asset_ID\"]==0].set_index(\"timestamp\")  #Binance\n",
        "btc = train[train[\"Asset_ID\"]==1].set_index(\"timestamp\")  #Bitcoin\n",
        "btcC = train[train[\"Asset_ID\"]==2].set_index(\"timestamp\") #Bitcoin Cash\n",
        "ada = train[train[\"Asset_ID\"]==3].set_index(\"timestamp\")  #Cardano\n",
        "doge = train[train[\"Asset_ID\"]==4].set_index(\"timestamp\") #DogeCoin\n",
        "eos = train[train[\"Asset_ID\"]==5].set_index(\"timestamp\")  #Eos\n",
        "eth = train[train[\"Asset_ID\"]==6].set_index(\"timestamp\")  #Etherium\n",
        "ethC = train[train[\"Asset_ID\"]==7].set_index(\"timestamp\") #Etherium Classic\n",
        "iota = train[train[\"Asset_ID\"]==8].set_index(\"timestamp\") #iota\n",
        "lite = train[train[\"Asset_ID\"]==9].set_index(\"timestamp\") #Litecoin\n",
        "mkr = train[train[\"Asset_ID\"]==10].set_index(\"timestamp\") #Maker\n",
        "mon = train[train[\"Asset_ID\"]==11].set_index(\"timestamp\") #Monero\n",
        "ste = train[train[\"Asset_ID\"]==12].set_index(\"timestamp\") #Stellar\n",
        "tron = train[train[\"Asset_ID\"]==13].set_index(\"timestamp\")#Tron"
      ],
      "execution_count": null,
      "outputs": []
    },
    {
      "cell_type": "code",
      "source": [
        "asset_list = [btc, eth, bin, btcC, ada, doge, eos, ethC, iota, lite, mkr, mon, ste, tron]"
      ],
      "metadata": {
        "id": "tpdAqPatXTqP"
      },
      "execution_count": null,
      "outputs": []
    },
    {
      "cell_type": "code",
      "source": [
        "asset_names = [\"Bitcoin\", \"Ethereum\", \"Binance\", \"Bitcoin Cash\", \"Cardano\", \"DodgeCoin\",\n",
        "               \"Eos\", \"Ethereum Classic\", \"Iota\", \"LiteCoin\", \"Maker\",\n",
        "               \"Monero\", \"Stellar\", \"Tron\"]"
      ],
      "metadata": {
        "id": "dzhA4UtArk12"
      },
      "execution_count": null,
      "outputs": []
    },
    {
      "cell_type": "code",
      "source": [
        "asset_names_abr = [\"BTC\", \"Eth\", \"Bin\", \"BtcC\", \"Ada\", \"Doge\",\n",
        "               \"Eos\", \"EthC\", \"Iota\", \"Lite\", \"Mkr\",\n",
        "               \"Mon\", \"Ste\", \"Tron\"]"
      ],
      "metadata": {
        "id": "8gT4xs-0CxkA"
      },
      "execution_count": null,
      "outputs": []
    },
    {
      "cell_type": "markdown",
      "source": [
        "#Data Cleaning"
      ],
      "metadata": {
        "id": "RbHTShs7LKIO"
      }
    },
    {
      "cell_type": "markdown",
      "source": [
        "## Fixing timeframe missing values"
      ],
      "metadata": {
        "id": "od6-TnH2WGiJ"
      }
    },
    {
      "cell_type": "code",
      "source": [
        "#Check to see if the interval between each timestamp is 60 seconds\n",
        "print((eth.index[1:]-eth.index[:-1]).value_counts().head())\n",
        "print((btc.index[1:]-btc.index[:-1]).value_counts().head())"
      ],
      "metadata": {
        "colab": {
          "base_uri": "https://localhost:8080/"
        },
        "id": "kmzdDVyNWKYX",
        "outputId": "772bccdb-3111-45b3-bfe5-a479624587d1"
      },
      "execution_count": null,
      "outputs": [
        {
          "output_type": "stream",
          "name": "stdout",
          "text": [
            "60     1956043\n",
            "120        100\n",
            "180         23\n",
            "300          5\n",
            "540          4\n",
            "Name: timestamp, dtype: int64\n",
            "60     1956136\n",
            "120         78\n",
            "180         12\n",
            "240         11\n",
            "420          9\n",
            "Name: timestamp, dtype: int64\n"
          ]
        }
      ]
    },
    {
      "cell_type": "markdown",
      "source": [
        "The other values above mean that there is minute data missing.\n",
        "Since the intervals are relatively short (540 seconds), we can fix the missing data by replacing with previous minute data."
      ],
      "metadata": {
        "id": "XdXZ634gWX1M"
      }
    },
    {
      "cell_type": "code",
      "source": [
        "#Deals with intervals were price data is missing\n",
        "bin = bin.reindex(range(bin.index[0],bin.index[-1]+60,60),method = 'pad')\n",
        "btc = btc.reindex(range(btc.index[0],btc.index[-1]+60,60),method = 'pad')\n",
        "btcC = btcC.reindex(range(btcC.index[0],btcC.index[-1]+60,60),method = 'pad')\n",
        "eos = eos.reindex(range(eos.index[0],eos.index[-1]+60,60),method = 'pad')\n",
        "eth = eth.reindex(range(eth.index[0],eth.index[-1]+60,60),method = 'pad')\n",
        "ethC = ethC.reindex(range(ethC.index[0],ethC.index[-1]+60,60),method = 'pad')\n",
        "lite = lite.reindex(range(lite.index[0],lite.index[-1]+60,60),method = 'pad')\n",
        "mon = mon.reindex(range(mon.index[0],mon.index[-1]+60,60),method = 'pad')\n",
        "ste = ste.reindex(range(ste.index[0],ste.index[-1]+60,60),method = 'pad')\n",
        "tron = tron.reindex(range(tron.index[0],tron.index[-1]+60,60),method = 'pad')"
      ],
      "metadata": {
        "id": "qDwHc09dVZJM"
      },
      "execution_count": null,
      "outputs": []
    },
    {
      "cell_type": "markdown",
      "source": [
        "## Fixing NA values"
      ],
      "metadata": {
        "id": "NpuZlqILWy87"
      }
    },
    {
      "cell_type": "code",
      "source": [
        "#Check how many values are missing per column\n",
        "btc.isna().sum()"
      ],
      "metadata": {
        "colab": {
          "base_uri": "https://localhost:8080/"
        },
        "id": "Ev5_nIA6F6ag",
        "outputId": "c1081b57-578a-4a55-ebab-12be541eb7f9"
      },
      "execution_count": null,
      "outputs": [
        {
          "output_type": "execute_result",
          "data": {
            "text/plain": [
              "Asset_ID      0\n",
              "Count         0\n",
              "Open          0\n",
              "High          0\n",
              "Low           0\n",
              "Close         0\n",
              "Volume        0\n",
              "VWAP          0\n",
              "Target      937\n",
              "dtype: int64"
            ]
          },
          "metadata": {},
          "execution_count": 12
        }
      ]
    },
    {
      "cell_type": "code",
      "source": [
        "#Since the target column has few missing values, and because the data \n",
        "#is given in minutes, we can use ffill to fill the missing values with previous values\n",
        "btc = btc.fillna(method='ffill')\n",
        "bin = bin.fillna(method='ffill')\n",
        "btcC = btcC.fillna(method='ffill')\n",
        "eos = eos.fillna(method='ffill')\n",
        "eth = eth.fillna(method='ffill')\n",
        "ethC = ethC.fillna(method='ffill')\n",
        "lite = lite.fillna(method='ffill')\n",
        "mon = mon.fillna(method='ffill')\n",
        "ste = ste.fillna(method='ffill')\n",
        "tron = tron.fillna(method='ffill')"
      ],
      "metadata": {
        "id": "_FWq3sNSG9VD"
      },
      "execution_count": null,
      "outputs": []
    },
    {
      "cell_type": "markdown",
      "source": [
        "# Data Visualization"
      ],
      "metadata": {
        "id": "18yJ2bpxVAkM"
      }
    },
    {
      "cell_type": "markdown",
      "source": [
        "##Overlapped normalized line plot\n",
        "\n",
        "This plot will be used to analyze the trend of the given assests and how they compare to each other"
      ],
      "metadata": {
        "id": "Gdc0UxCB-S8S"
      }
    },
    {
      "cell_type": "code",
      "source": [
        "def normalize(data):\n",
        "  return (np.array(data/max(data), dtype='float'))"
      ],
      "metadata": {
        "id": "Trswr-wjg0yr"
      },
      "execution_count": null,
      "outputs": []
    },
    {
      "cell_type": "code",
      "source": [
        "f = plt.figure(figsize = (6,4))\n",
        "\n",
        "#Creates a list of colors with grey shading\n",
        "greys= plt.get_cmap('Greys')\n",
        "colors = iter(greys(np.linspace(0.2,0.5,13)))\n",
        "\n",
        "#Creates arrays with the dates and its specific timestamp\n",
        "#The date to timestamp calculator can be found at:\n",
        "dates = ['2018-01', '2019-01', '2020-01', '2021-01', '2021-09']\n",
        "ticks = [1514764860, 1546300800, 1577836800, 1609459200, 1632182400]\n",
        "\n",
        "#Plots the normalized price trend of each coin\n",
        "\n",
        "counter = 1\n",
        "for i in asset_list[1:]:\n",
        "  plt.plot(i.index, normalize(i['Close']), c = next(colors), \n",
        "           label = asset_names[counter])\n",
        "  counter += 1\n",
        "\n",
        "plt.xticks(ticks, dates)\n",
        "plt.plot(btc.index, normalize(btc['Close']), c = 'Orange', label = \"Bitcoin\")\n",
        "plt.legend(bbox_to_anchor=(1.33, 1), loc='upper right', borderaxespad=0)\n",
        "plt.xlabel('Time')\n",
        "plt.ylabel('Normalized price')\n",
        "plt.grid(False)\n",
        "plt.show()\n",
        "f.clear()\n",
        "plt.close(f)\n"
      ],
      "metadata": {
        "colab": {
          "base_uri": "https://localhost:8080/",
          "height": 279
        },
        "outputId": "de218cd0-efdf-4704-91e8-920a0b8fc552",
        "id": "cdxJSMAGMZ1W"
      },
      "execution_count": null,
      "outputs": [
        {
          "output_type": "display_data",
          "data": {
            "text/plain": [
              "<Figure size 432x288 with 1 Axes>"
            ],
            "image/png": "[encoded data removed]"
          },
          "metadata": {
            "needs_background": "light"
          }
        }
      ]
    },
    {
      "cell_type": "markdown",
      "source": [
        "##Trade count barplot\n",
        "\n",
        "This barplot will be used to analyze how much each coin was used between 2018 and 2021."
      ],
      "metadata": {
        "id": "rPmZgUzWFOqL"
      }
    },
    {
      "cell_type": "code",
      "source": [
        "#Creates an array with the sum of all total trades for each asset\n",
        "total_trades = []\n",
        "\n",
        "for i in asset_list:\n",
        "  total_trades.append(np.sum(i['Count']))\n",
        "\n",
        "print(total_trades)"
      ],
      "metadata": {
        "colab": {
          "base_uri": "https://localhost:8080/"
        },
        "id": "OezGf9zW_NjW",
        "outputId": "be7c85d4-e865-44ff-feaa-2afeaec2d850"
      },
      "execution_count": null,
      "outputs": [
        {
          "output_type": "stream",
          "name": "stdout",
          "text": [
            "[2117460311.0, 1348034155.0, 362195877.0, 299985406.0, 428883115.0, 549295778.0, 480125009.0, 252805308.0, 53310868.0, 441414221.0, 33485351.0, 59209021.0, 211747363.0, 304907865.0]\n"
          ]
        }
      ]
    },
    {
      "cell_type": "code",
      "source": [
        "fig = plt.figure(figsize = (6, 3))\n",
        "ax = fig.add_axes([0, 0, 1, 1])\n",
        "\n",
        "#Creates a list of colors to be used in the barplot\n",
        "colors = ['orange', 'lightblue']\n",
        "for i in range(0, 12):\n",
        "  colors.append('lightgray')\n",
        "\n",
        "#Plots the data\n",
        "ax.bar(asset_names_abr, total_trades, color=colors)\n",
        "plt.axhline(y=np.average(total_trades), label = 'Average trade quantity', \n",
        "            c = 'gray', ls=':')\n",
        "plt.ylabel('Total trades (in billions)')\n",
        "plt.xlabel('Asset')\n",
        "plt.legend()\n",
        "plt.grid(False)\n",
        "plt.show()\n",
        "f.clear()\n",
        "plt.close(f)"
      ],
      "metadata": {
        "colab": {
          "base_uri": "https://localhost:8080/",
          "height": 288
        },
        "id": "YwCeUFVA_6tk",
        "outputId": "1a43d633-9b8a-4b4b-dea2-e5981ccefe8b"
      },
      "execution_count": null,
      "outputs": [
        {
          "output_type": "display_data",
          "data": {
            "text/plain": [
              "<Figure size 432x216 with 1 Axes>"
            ],
            "image/png": "[encoded data removed]"
          },
          "metadata": {
            "needs_background": "light"
          }
        }
      ]
    },
    {
      "cell_type": "markdown",
      "source": [
        "## Variance analysis\n",
        "\n",
        "We will use this plot to evaluate the average daily variance of each coin"
      ],
      "metadata": {
        "id": "UKE-wtuCGQnV"
      }
    },
    {
      "cell_type": "code",
      "source": [
        "#This function allows us to get the average daily variance of a given coin\n",
        "def get_average_variance(data):\n",
        "  daily_variance = []\n",
        "\n",
        "  for i in range(0, len(data)-1440, 1440):\n",
        "    daily_variance.append(\n",
        "        (abs(data.iloc[i, 2]-data.iloc[i+1440, 2])/\n",
        "          data.iloc[i+1440, 2])*100)\n",
        "\n",
        "  return np.average(daily_variance)"
      ],
      "metadata": {
        "id": "gKH7RnyWGQDS"
      },
      "execution_count": null,
      "outputs": []
    },
    {
      "cell_type": "code",
      "source": [
        "#Gets daily average variance (in %) from all coins\n",
        "asset_variance = []\n",
        "for i in asset_list:\n",
        "  asset_variance.append(get_average_variance(i))\n",
        "\n",
        "print(asset_variance)"
      ],
      "metadata": {
        "colab": {
          "base_uri": "https://localhost:8080/"
        },
        "id": "uRn7QANAJCyB",
        "outputId": "daa6b984-1897-4cfd-df6f-fa0cfa9ac77c"
      },
      "execution_count": null,
      "outputs": [
        {
          "output_type": "stream",
          "name": "stdout",
          "text": [
            "[2.759600443210316, 3.645269848991199, 3.9839425807872173, 4.277398118966898, 4.128198957779409, 4.436505836082446, 4.4366007260889555, 4.400857076656494, 4.463647384041385, 3.847578098213943, 6.01796644821328, 4.191158031473606, 4.197512158124911, 4.305490406962645]\n"
          ]
        }
      ]
    },
    {
      "cell_type": "code",
      "source": [
        "fig = plt.figure(figsize = (6, 3))\n",
        "ax = fig.add_axes([0, 0, 1, 1])\n",
        "\n",
        "#Creates color map for the plot\n",
        "#Manually color the relevant assets\n",
        "colors = ['orange', 'lightgrey']\n",
        "for i in range(0, 12):\n",
        "  if i == 8:\n",
        "    colors.append('red')\n",
        "  colors.append('lightgray')\n",
        "\n",
        "#Plots data\n",
        "ax.bar(asset_names_abr, asset_variance, color=colors)\n",
        "plt.axhline(y=np.average(asset_variance), label = 'Average daily variance', \n",
        "            c = 'gray', ls=':')\n",
        "plt.ylabel('Daily variance (in %)')\n",
        "plt.xlabel('Asset')\n",
        "plt.legend()\n",
        "plt.grid(False)\n",
        "plt.show()\n",
        "f.clear()\n",
        "plt.close(f)"
      ],
      "metadata": {
        "colab": {
          "base_uri": "https://localhost:8080/",
          "height": 277
        },
        "id": "Lxuxd-ecM8un",
        "outputId": "68e3bb8b-379b-44b6-9ffc-9ead6cafc0ac"
      },
      "execution_count": null,
      "outputs": [
        {
          "output_type": "display_data",
          "data": {
            "text/plain": [
              "<Figure size 432x216 with 1 Axes>"
            ],
            "image/png": "[encoded data removed]"
          },
          "metadata": {
            "needs_background": "light"
          }
        }
      ]
    },
    {
      "cell_type": "markdown",
      "source": [
        "## Total Money Traded\n",
        "\n",
        "We will use this plot to see how much money was traded through each coin"
      ],
      "metadata": {
        "id": "URQdl8H3Gu5l"
      }
    },
    {
      "cell_type": "code",
      "source": [
        "#By multiplying volume (amount of coins traded) and price,\n",
        "#we can get how much money was traded with a given coin\n",
        "def get_total_transaction_values(data):\n",
        "\n",
        "  total_money = (np.sum(\n",
        "        data['Open'] * data['Volume']))\n",
        "\n",
        "  return total_money"
      ],
      "metadata": {
        "id": "rQcoRfraHGLc"
      },
      "execution_count": null,
      "outputs": []
    },
    {
      "cell_type": "code",
      "source": [
        "#Creates a list of money traded per coin\n",
        "total_money = []\n",
        "for i in asset_list:\n",
        "  total_money.append(get_total_transaction_values(i))\n",
        "print(total_money)"
      ],
      "metadata": {
        "colab": {
          "base_uri": "https://localhost:8080/"
        },
        "id": "bpCtOSzRJQxW",
        "outputId": "28740666-3409-4b58-f573-f72b9ad1fe21"
      },
      "execution_count": null,
      "outputs": [
        {
          "output_type": "stream",
          "name": "stdout",
          "text": [
            "[3038320398082.8027, 1772282616255.9211, 324145669799.33716, 197784187666.82733, 317978287597.39154, 431509394294.67944, 266774854589.7943, 144362153952.3956, 18330269878.79963, 289833449294.0008, 12303411372.832714, 25213519254.48637, 95147528755.9824, 146575545350.26575]\n"
          ]
        }
      ]
    },
    {
      "cell_type": "code",
      "source": [
        "#Since Bitcoin and Ethereum were the coins that traded the most,\n",
        "#we can group the remaining coins to make a less cluttered visualization.\n",
        "total = []\n",
        "total.append(total_money[0])\n",
        "total.append(total_money[1])\n",
        "total.append(sum(total_money[2:]))\n",
        "print(total)"
      ],
      "metadata": {
        "colab": {
          "base_uri": "https://localhost:8080/"
        },
        "id": "w88dE2BUIrc4",
        "outputId": "8ad83e5e-73f1-4af7-9332-165e876450d9"
      },
      "execution_count": null,
      "outputs": [
        {
          "output_type": "stream",
          "name": "stdout",
          "text": [
            "[3038320398082.8027, 1772282616255.9211, 2269958271806.793]\n"
          ]
        }
      ]
    },
    {
      "cell_type": "code",
      "source": [
        "#Plots area graph of the data\n",
        "plt.rc('font', size=14)\n",
        "squarify.plot(sizes=total, \n",
        "              label=['Bitcoin \\n$3,03 trillion', 'Ethereum \\n$1,77 trillion', 'Others \\n$2,27 trillion'], \n",
        "              color = ['Orange', 'Lightblue', 'Lightgray'])\n",
        "plt.axis('off')\n",
        "plt.show()"
      ],
      "metadata": {
        "colab": {
          "base_uri": "https://localhost:8080/",
          "height": 265
        },
        "id": "5aq1afuV2G9R",
        "outputId": "b12a9837-8745-4488-8276-f2a9d4039c0f"
      },
      "execution_count": null,
      "outputs": [
        {
          "output_type": "execute_result",
          "data": {
            "text/plain": [
              "(0.0, 100.0, 0.0, 100.0)"
            ]
          },
          "metadata": {},
          "execution_count": 19
        },
        {
          "output_type": "display_data",
          "data": {
            "text/plain": [
              "<Figure size 432x288 with 1 Axes>"
            ],
            "image/png": "[encoded data removed]"
          },
          "metadata": {
            "needs_background": "light"
          }
        }
      ]
    },
    {
      "cell_type": "code",
      "source": [
        "#Plots donut graph of the data\n",
        "colors = ['orange', 'lightblue']\n",
        "for i in range(0, 12):\n",
        "  colors.append('lightgray')\n",
        "\n",
        "total = []\n",
        "total.append(total_money[0])\n",
        "total.append(total_money[1])\n",
        "total.append(sum(total_money[2:]))\n",
        "\n",
        "plt.pie(total,  colors = colors)\n",
        "plt.legend(labels=[\"Bitcoin\", \"Ethereum\", \"Others\"], loc='upper right')\n",
        "plt.legend(bbox_to_anchor=(1.45, .65), loc='upper right', \n",
        "           borderaxespad=0, labels=[\"Bitcoin\", \"Ethereum\", \"Others\"])\n",
        "# draw circle\n",
        "centre_circle = plt.Circle((0, 0), 0.70, fc='white')\n",
        "fig = plt.gcf()\n",
        "  \n",
        "# Adding Circle in Pie chart\n",
        "fig.gca().add_artist(centre_circle)\n",
        "plt.show()"
      ],
      "metadata": {
        "colab": {
          "base_uri": "https://localhost:8080/",
          "height": 248
        },
        "id": "hOoACId5Jivu",
        "outputId": "59d58db7-681a-45ca-8fed-34650c382da5"
      },
      "execution_count": null,
      "outputs": [
        {
          "output_type": "display_data",
          "data": {
            "text/plain": [
              "<Figure size 432x288 with 1 Axes>"
            ],
            "image/png": "[encoded data removed]"
          },
          "metadata": {}
        }
      ]
    },
    {
      "cell_type": "code",
      "source": [
        "#Gets how much money was traded through crypto in total.\n",
        "print(f'{sum(total_money):,}')"
      ],
      "metadata": {
        "colab": {
          "base_uri": "https://localhost:8080/"
        },
        "id": "hbof3hanpBMG",
        "outputId": "75a6dc29-4406-449c-f6e0-e261b56da3cf"
      },
      "execution_count": null,
      "outputs": [
        {
          "output_type": "stream",
          "name": "stdout",
          "text": [
            "7,080,561,286,145.517\n"
          ]
        }
      ]
    },
    {
      "cell_type": "markdown",
      "source": [
        "## Usage growth between 2018 and 2020\n",
        "\n"
      ],
      "metadata": {
        "id": "2Bgnr9gxeNOo"
      }
    },
    {
      "cell_type": "code",
      "source": [
        "def get_count_sum_2018(data):\n",
        "  #date at 2019/01/01, 8:00:00 PM\n",
        "  df = data.loc[data.index < 1546390800]\n",
        "  return np.sum(df['Count'])"
      ],
      "metadata": {
        "id": "GmqHmlKLKk5l"
      },
      "execution_count": null,
      "outputs": []
    },
    {
      "cell_type": "code",
      "source": [
        "def get_count_sum_2020(data):\n",
        "  # date at 2021/01/01, 8:00:00 PM and at #date at 2019/01/01, 8:00:00 PM\n",
        "  df = data.loc[(data.index < 1609549200) & (data.index > 1546390800)]\n",
        "  return np.sum(df['Count'])"
      ],
      "metadata": {
        "id": "wiuHLojMMac8"
      },
      "execution_count": null,
      "outputs": []
    },
    {
      "cell_type": "code",
      "source": [
        "count_2018 = []\n",
        "\n",
        "for i in asset_list:\n",
        "  count_2018.append(get_count_sum_2018(i))\n",
        "\n",
        "print(count_2018)"
      ],
      "metadata": {
        "colab": {
          "base_uri": "https://localhost:8080/"
        },
        "id": "TDNsdeFRL3k7",
        "outputId": "d1e4c2ae-0341-4e64-abf4-10e36b923316"
      },
      "execution_count": null,
      "outputs": [
        {
          "output_type": "stream",
          "name": "stdout",
          "text": [
            "[192784623.0, 132050562.0, 15240390.0, 30369554.0, 13429048.0, 0.0, 54485945.0, 20585639.0, 5121515.0, 45862855.0, 12571.0, 2915007.0, 5799714.0, 11948778.0]\n"
          ]
        }
      ]
    },
    {
      "cell_type": "code",
      "source": [
        "count_2020 = []\n",
        "\n",
        "for i in asset_list:\n",
        "  count_2020.append(get_count_sum_2020(i))\n",
        "\n",
        "print(count_2020)"
      ],
      "metadata": {
        "colab": {
          "base_uri": "https://localhost:8080/"
        },
        "id": "TznSx58MMnXC",
        "outputId": "207c33cb-4be6-4161-a68b-4f97252a83f4"
      },
      "execution_count": null,
      "outputs": [
        {
          "output_type": "stream",
          "name": "stdout",
          "text": [
            "[885591967.0, 437179444.0, 76790131.0, 133310278.0, 75627154.0, 9911974.0, 199061591.0, 71499176.0, 11909674.0, 153378294.0, 5084517.0, 19928969.0, 57538866.0, 101091405.0]\n"
          ]
        }
      ]
    },
    {
      "cell_type": "code",
      "source": [
        "percent_difference = {}\n",
        "\n",
        "for i in range(len(count_2020)):\n",
        "\n",
        "  percent_difference[asset_names[i]] = (\n",
        "        ((count_2020[i]-count_2018[i]) /count_2020[i])*100)"
      ],
      "metadata": {
        "id": "3zx7p965fm68"
      },
      "execution_count": null,
      "outputs": []
    },
    {
      "cell_type": "code",
      "source": [
        "colors = []\n",
        "\n",
        "for i in range(14):\n",
        "  if i == 6:\n",
        "    colors.append('orange')\n",
        "  elif i == 12 or i == 13:\n",
        "    colors.append('red')\n",
        "  else:\n",
        "    colors.append('lightgray')\n",
        "\n",
        "fig = plt.figure(figsize = (3, 8))\n",
        "percent_difference = dict(sorted(percent_difference.items(), key=lambda x:x[1]))\n",
        "print(percent_difference)\n",
        "plt.barh(list(percent_difference.keys()), list(percent_difference.values()), color=colors)\n",
        "plt.axvline(x=np.average(list(percent_difference.values())), label = 'Average usage growth', c = 'gray', ls=':')\n",
        "plt.legend(bbox_to_anchor=(1, 1.05), loc='upper right', borderaxespad=0)\n",
        "plt.grid(False)\n",
        "plt.show()"
      ],
      "metadata": {
        "colab": {
          "base_uri": "https://localhost:8080/",
          "height": 575
        },
        "id": "mnbYvp7JNvzv",
        "outputId": "8be5129d-d4da-4b94-d8db-c1cbebc499b0"
      },
      "execution_count": null,
      "outputs": [
        {
          "output_type": "stream",
          "name": "stdout",
          "text": [
            "{'Iota': 56.997017718537045, 'Eth': 69.79488312812805, 'Lite': 70.0982102460991, 'EthC': 71.20856469730505, 'Eos': 72.62859965788176, 'BtcC': 77.2188953052817, 'BTC': 78.23098783821737, 'Bin': 80.1531918209646, 'Ada': 82.24308692086973, 'Mon': 85.37301653688156, 'Tron': 88.18022363028786, 'Ste': 89.92035400906234, 'Mkr': 99.7527592099702, 'Doge': 100.0}\n"
          ]
        },
        {
          "output_type": "display_data",
          "data": {
            "text/plain": [
              "<Figure size 216x576 with 1 Axes>"
            ],
            "image/png": "[encoded data removed]"
          },
          "metadata": {}
        }
      ]
    }
  ]
}